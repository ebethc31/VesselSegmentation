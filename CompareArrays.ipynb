{
 "cells": [
  {
   "cell_type": "code",
   "execution_count": 1,
   "id": "50b0bfe2-3955-4637-94dc-cc4effa64420",
   "metadata": {
    "tags": []
   },
   "outputs": [
    {
     "name": "stdout",
     "output_type": "stream",
     "text": [
      "Defaulting to user installation because normal site-packages is not writeable\n",
      "Requirement already satisfied: nibabel in /home/eachand/.local/lib/python3.11/site-packages (5.3.2)\n",
      "Requirement already satisfied: importlib-resources>=5.12 in /home/eachand/.local/lib/python3.11/site-packages (from nibabel) (6.4.5)\n",
      "Requirement already satisfied: numpy>=1.22 in /software/slurm/spackages/linux-rocky8-x86_64/gcc-12.2.0/anaconda3-2023.09-0-3mhml42fa64byxqyd5fig5tbih625dp2/lib/python3.11/site-packages (from nibabel) (1.24.3)\n",
      "Requirement already satisfied: packaging>=20 in /software/slurm/spackages/linux-rocky8-x86_64/gcc-12.2.0/anaconda3-2023.09-0-3mhml42fa64byxqyd5fig5tbih625dp2/lib/python3.11/site-packages (from nibabel) (23.1)\n",
      "Requirement already satisfied: typing-extensions>=4.6 in /home/eachand/.local/lib/python3.11/site-packages (from nibabel) (4.12.2)\n",
      "Note: you may need to restart the kernel to use updated packages.\n"
     ]
    }
   ],
   "source": [
    "pip install nibabel"
   ]
  },
  {
   "cell_type": "code",
   "execution_count": 2,
   "id": "52a9370d-2469-47d2-915b-a891a8519942",
   "metadata": {
    "tags": []
   },
   "outputs": [],
   "source": [
    "import nibabel as nib\n",
    "import random\n",
    "import os\n",
    "\n",
    "img18_predict = nib.load('../18and20Output_predict4/sub018_seg_g0.01.nii.gz')\n",
    "img20_predict = nib.load('../18and20Output_predict4/sub020_seg_g0.01.nii.gz')\n",
    "\n",
    "img18_tta = nib.load('../18and20Output_tta4/sub018_seg_g0.01.nii.gz')\n",
    "img20_tta = nib.load('../18and20Output_tta4/sub020_seg_g0.01.nii.gz')\n",
    "\n",
    "img18_pre = nib.load('./18and20/sub018_seg_g0.01.nii.gz')\n",
    "img20_pre = nib.load('./18and20/sub020_seg_g0.01.nii.gz')\n",
    "\n",
    "data18_pre = img18_pre.get_fdata()\n",
    "data20_pre = img20_pre.get_fdata()\n",
    "\n",
    "data18_predict = img18_predict.get_fdata()\n",
    "data20_predict = img20_predict.get_fdata()\n",
    "\n",
    "data18_tta = img18_tta.get_fdata()\n",
    "data20_tta = img20_tta.get_fdata()\n",
    "\n"
   ]
  },
  {
   "cell_type": "code",
   "execution_count": 5,
   "id": "bbab798f-d226-4dd5-9308-77c222ea473e",
   "metadata": {},
   "outputs": [
    {
     "name": "stdout",
     "output_type": "stream",
     "text": [
      "Number of mismatches for TTA 018 compared to the original 018: 108\n",
      "Number of mismatches for Predict 018 compared to the original 018: 394630\n",
      "Number of mismatches for TTA 020 compared to the original 020: 130298\n",
      "Number of mismatches for Predict 020 compared to the original 020: 640677\n"
     ]
    }
   ],
   "source": [
    "def compare_tta_pre_arrays(data1, data2, subject, comparison_type):\n",
    "    mismatch_count = 0\n",
    "    mismatches = []\n",
    "    depth, height, width = data1.shape\n",
    "\n",
    "    # Loop over each element in the 3D array\n",
    "    for z in range(depth):\n",
    "        for y in range(height):\n",
    "            for x in range(width):\n",
    "                # If the values are different, store the mismatch coordinates and values\n",
    "                if data1[z, y, x] != data2[z, y, x]:\n",
    "                    mismatches.append((z, y, x, data1[z, y, x], data2[z, y, x]))\n",
    "\n",
    "    # Print the results\n",
    "    for mismatch in mismatches:\n",
    "        #print(f\"Coordinates: {mismatch[:3]} - TTA: {mismatch[3]} - PRE: {mismatch[4]}\")\n",
    "        mismatch_count += 1\n",
    "        \n",
    "    return mismatch_count\n",
    "\n",
    "def compare_predict_pre_arrays(data1, data2, subject, comparison_type):\n",
    "    mismatch_count = 0\n",
    "    mismatches = []\n",
    "    depth, height, width = data1.shape\n",
    "\n",
    "    # Loop over each element in the 3D array\n",
    "    for z in range(depth):\n",
    "        for y in range(height):\n",
    "            for x in range(width):\n",
    "                # If the values are different, store the mismatch coordinates and values\n",
    "                if data1[z, y, x] != data2[z, y, x]:\n",
    "                    mismatches.append((z, y, x, data1[z, y, x], data2[z, y, x]))\n",
    "\n",
    "    # Print the results\n",
    "    for mismatch in mismatches:\n",
    "        #print(f\"Coordinates: {mismatch[:3]} - Predict: {mismatch[3]} - PRE: {mismatch[4]}\")\n",
    "        mismatch_count += 1\n",
    "        \n",
    "    return mismatch_count\n",
    "\n",
    "# List of subjects to loop through\n",
    "subjects = ['018', '020']\n",
    "\n",
    "# Loop over subjects to compare TTA and PREDICT with PRE\n",
    "for subject in subjects:\n",
    "    # Select the appropriate data arrays based on subject\n",
    "    if subject == '018':\n",
    "        data_pre = data18_pre\n",
    "        data_predict = data18_predict\n",
    "        data_tta = data18_tta\n",
    "    elif subject == '020':\n",
    "        data_pre = data20_pre\n",
    "        data_predict = data20_predict\n",
    "        data_tta = data20_tta\n",
    "\n",
    "    # Compare TTA vs PRE\n",
    "    countOfMismatchesTTA = compare_tta_pre_arrays(data_tta, data_pre, subject, \"TTA vs PRE\")\n",
    "    print(f\"Number of mismatches for TTA {subject} compared to the original {subject}: {countOfMismatchesTTA}\")\n",
    "    \n",
    "    # Compare PREDICT vs PRE\n",
    "    countOfMismatchesPredict = compare_predict_pre_arrays(data_predict, data_pre, subject, \"PREDICT vs PRE\")\n",
    "    print(f\"Number of mismatches for Predict {subject} compared to the original {subject}: {countOfMismatchesPredict}\")\n",
    "    "
   ]
  },
  {
   "cell_type": "code",
   "execution_count": null,
   "id": "c570e3eb-025d-4dab-94d1-e5c309357be5",
   "metadata": {},
   "outputs": [],
   "source": []
  }
 ],
 "metadata": {
  "kernelspec": {
   "display_name": "Python 3 (ipykernel)",
   "language": "python",
   "name": "python3"
  },
  "language_info": {
   "codemirror_mode": {
    "name": "ipython",
    "version": 3
   },
   "file_extension": ".py",
   "mimetype": "text/x-python",
   "name": "python",
   "nbconvert_exporter": "python",
   "pygments_lexer": "ipython3",
   "version": "3.11.5"
  }
 },
 "nbformat": 4,
 "nbformat_minor": 5
}
