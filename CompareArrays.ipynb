{
 "cells": [
  {
   "cell_type": "code",
   "execution_count": 1,
   "id": "50b0bfe2-3955-4637-94dc-cc4effa64420",
   "metadata": {
    "tags": []
   },
   "outputs": [
    {
     "name": "stdout",
     "output_type": "stream",
     "text": [
      "Defaulting to user installation because normal site-packages is not writeable\n",
      "Requirement already satisfied: nibabel in /home/eachand/.local/lib/python3.11/site-packages (5.3.2)\n",
      "Requirement already satisfied: importlib-resources>=5.12 in /home/eachand/.local/lib/python3.11/site-packages (from nibabel) (6.4.5)\n",
      "Requirement already satisfied: numpy>=1.22 in /software/slurm/spackages/linux-rocky8-x86_64/gcc-12.2.0/anaconda3-2023.09-0-3mhml42fa64byxqyd5fig5tbih625dp2/lib/python3.11/site-packages (from nibabel) (1.24.3)\n",
      "Requirement already satisfied: packaging>=20 in /software/slurm/spackages/linux-rocky8-x86_64/gcc-12.2.0/anaconda3-2023.09-0-3mhml42fa64byxqyd5fig5tbih625dp2/lib/python3.11/site-packages (from nibabel) (23.1)\n",
      "Requirement already satisfied: typing-extensions>=4.6 in /home/eachand/.local/lib/python3.11/site-packages (from nibabel) (4.12.2)\n",
      "Note: you may need to restart the kernel to use updated packages.\n"
     ]
    }
   ],
   "source": [
    "pip install nibabel"
   ]
  },
  {
   "cell_type": "code",
   "execution_count": null,
   "id": "52a9370d-2469-47d2-915b-a891a8519942",
   "metadata": {
    "tags": []
   },
   "outputs": [],
   "source": [
    "import nibabel as nib\n",
    "import random\n",
    "import numpy as np\n",
    "import os\n",
    "\n",
    "img18_predict = nib.load('../18and20Output_predict4/sub018_seg_g0.01.nii.gz')\n",
    "img20_predict = nib.load('../18and20Output_predict4/sub020_seg_g0.01.nii.gz')\n",
    "\n",
    "img18_tta = nib.load('../18and20Output_tta4/sub018_seg_g0.01.nii.gz')\n",
    "img20_tta = nib.load('../18and20Output_tta4/sub020_seg_g0.01.nii.gz')\n",
    "\n",
    "img18_pre = nib.load('../18and20/sub018_seg_g0.01.nii.gz')\n",
    "img20_pre = nib.load('../18and20/sub020_seg_g0.01.nii.gz')\n",
    "\n",
    "data18_pre = img18_pre.get_fdata()\n",
    "data20_pre = img20_pre.get_fdata()\n",
    "\n",
    "data18_predict = img18_predict.get_fdata()\n",
    "data20_predict = img20_predict.get_fdata()\n",
    "\n",
    "data18_tta = img18_tta.get_fdata()\n",
    "data20_tta = img20_tta.get_fdata()\n",
    "\n"
   ]
  },
  {
   "cell_type": "code",
   "execution_count": 6,
   "id": "214ff8af",
   "metadata": {},
   "outputs": [
    {
     "ename": "NameError",
     "evalue": "name 'np' is not defined",
     "output_type": "error",
     "traceback": [
      "\u001b[31m---------------------------------------------------------------------------\u001b[39m",
      "\u001b[31mNameError\u001b[39m                                 Traceback (most recent call last)",
      "\u001b[36mCell\u001b[39m\u001b[36m \u001b[39m\u001b[32mIn[6]\u001b[39m\u001b[32m, line 24\u001b[39m\n\u001b[32m     20\u001b[39m     diff_img = nib.Nifti1Image(data_diff, img1.affine, img1.header)\n\u001b[32m     21\u001b[39m     nib.save(diff_img, path)\n\u001b[32m---> \u001b[39m\u001b[32m24\u001b[39m \u001b[43mcreate_diff_image\u001b[49m\u001b[43m(\u001b[49m\u001b[43mimg18_pre\u001b[49m\u001b[43m,\u001b[49m\u001b[43m \u001b[49m\u001b[43mimg18_predict\u001b[49m\u001b[43m,\u001b[49m\u001b[33;43m'\u001b[39;49m\u001b[33;43m../18and20Output_predict4/18predict_diff.nii\u001b[39;49m\u001b[33;43m'\u001b[39;49m\u001b[43m)\u001b[49m\n\u001b[32m     25\u001b[39m create_diff_image(img18_pre, img18_tta,\u001b[33m'\u001b[39m\u001b[33m../18and20Output_tta4/18tta_diff.nii\u001b[39m\u001b[33m'\u001b[39m)\n",
      "\u001b[36mCell\u001b[39m\u001b[36m \u001b[39m\u001b[32mIn[6]\u001b[39m\u001b[32m, line 10\u001b[39m, in \u001b[36mcreate_diff_image\u001b[39m\u001b[34m(img1, img2, path)\u001b[39m\n\u001b[32m      8\u001b[39m data_diff = data1 - data2\n\u001b[32m      9\u001b[39m affine = img1.affine\n\u001b[32m---> \u001b[39m\u001b[32m10\u001b[39m img_min = \u001b[43mnp\u001b[49m.min(data_diff)\n\u001b[32m     13\u001b[39m \u001b[38;5;66;03m#scale image\u001b[39;00m\n\u001b[32m     14\u001b[39m data_diff -= img_min\n",
      "\u001b[31mNameError\u001b[39m: name 'np' is not defined"
     ]
    }
   ],
   "source": [
    "#creates an image that highlights all voxels that are present in one input image, but not the other, and scales the image to standard intensities\n",
    "#0: voxel is present in img2, but not img1\n",
    "#255: voxel is present in img1, but not img2\n",
    "#127.5: the same value in both images (either both 0 or both 1)\n",
    "def create_diff_image(img1, img2, path):\n",
    "    data1 = img1.get_fdata()\n",
    "    data2 = img2.get_fdata()\n",
    "    data_diff = data1 - data2\n",
    "    affine = img1.affine\n",
    "    img_min = np.min(data_diff)\n",
    "    \n",
    "\n",
    "    #scale image\n",
    "    data_diff -= img_min\n",
    "    print(np.min(data_diff))\n",
    "    img_max = np.max(data_diff)\n",
    "    data_diff *= (255/img_max)\n",
    "    print(np.max(data_diff))\n",
    "\n",
    "    diff_img = nib.Nifti1Image(data_diff, img1.affine, img1.header)\n",
    "    nib.save(diff_img, path)\n",
    "\n",
    "\n",
    "create_diff_image(img18_pre, img18_predict,'../18and20Output_predict4/18predict_diff.nii')\n",
    "create_diff_image(img18_pre, img18_tta,'../18and20Output_tta4/18tta_diff.nii')"
   ]
  },
  {
   "cell_type": "code",
   "execution_count": 5,
   "id": "bbab798f-d226-4dd5-9308-77c222ea473e",
   "metadata": {},
   "outputs": [
    {
     "name": "stdout",
     "output_type": "stream",
     "text": [
      "Number of mismatches for TTA 018 compared to the original 018: 108\n",
      "Number of mismatches for Predict 018 compared to the original 018: 394630\n",
      "Number of mismatches for TTA 020 compared to the original 020: 130298\n",
      "Number of mismatches for Predict 020 compared to the original 020: 640677\n"
     ]
    }
   ],
   "source": [
    "def compare_tta_pre_arrays(data1, data2, subject, comparison_type):\n",
    "    mismatch_count = 0\n",
    "    mismatches = []\n",
    "    depth, height, width = data1.shape\n",
    "\n",
    "    # Loop over each element in the 3D array\n",
    "    for z in range(depth):\n",
    "        for y in range(height):\n",
    "            for x in range(width):\n",
    "                # If the values are different, store the mismatch coordinates and values\n",
    "                if data1[z, y, x] != data2[z, y, x]:\n",
    "                    mismatches.append((z, y, x, data1[z, y, x], data2[z, y, x]))\n",
    "\n",
    "    # Print the results\n",
    "    for mismatch in mismatches:\n",
    "        #print(f\"Coordinates: {mismatch[:3]} - TTA: {mismatch[3]} - PRE: {mismatch[4]}\")\n",
    "        mismatch_count += 1\n",
    "        \n",
    "    return mismatch_count\n",
    "\n",
    "def compare_predict_pre_arrays(data1, data2, subject, comparison_type):\n",
    "    mismatch_count = 0\n",
    "    mismatches = []\n",
    "    depth, height, width = data1.shape\n",
    "\n",
    "    # Loop over each element in the 3D array\n",
    "    for z in range(depth):\n",
    "        for y in range(height):\n",
    "            for x in range(width):\n",
    "                # If the values are different, store the mismatch coordinates and values\n",
    "                if data1[z, y, x] != data2[z, y, x]:\n",
    "                    mismatches.append((z, y, x, data1[z, y, x], data2[z, y, x]))\n",
    "\n",
    "    # Print the results\n",
    "    for mismatch in mismatches:\n",
    "        #print(f\"Coordinates: {mismatch[:3]} - Predict: {mismatch[3]} - PRE: {mismatch[4]}\")\n",
    "        mismatch_count += 1\n",
    "        \n",
    "    return mismatch_count\n",
    "\n",
    "# List of subjects to loop through\n",
    "subjects = ['018', '020']\n",
    "\n",
    "# Loop over subjects to compare TTA and PREDICT with PRE\n",
    "for subject in subjects:\n",
    "    # Select the appropriate data arrays based on subject\n",
    "    if subject == '018':\n",
    "        data_pre = data18_pre\n",
    "        data_predict = data18_predict\n",
    "        data_tta = data18_tta\n",
    "    elif subject == '020':\n",
    "        data_pre = data20_pre\n",
    "        data_predict = data20_predict\n",
    "        data_tta = data20_tta\n",
    "\n",
    "    # Compare TTA vs PRE\n",
    "    countOfMismatchesTTA = compare_tta_pre_arrays(data_tta, data_pre, subject, \"TTA vs PRE\")\n",
    "    print(f\"Number of mismatches for TTA {subject} compared to the original {subject}: {countOfMismatchesTTA}\")\n",
    "    \n",
    "    # Compare PREDICT vs PRE\n",
    "    countOfMismatchesPredict = compare_predict_pre_arrays(data_predict, data_pre, subject, \"PREDICT vs PRE\")\n",
    "    print(f\"Number of mismatches for Predict {subject} compared to the original {subject}: {countOfMismatchesPredict}\")\n",
    "    "
   ]
  },
  {
   "cell_type": "code",
   "execution_count": null,
   "id": "c570e3eb-025d-4dab-94d1-e5c309357be5",
   "metadata": {},
   "outputs": [],
   "source": []
  }
 ],
 "metadata": {
  "kernelspec": {
   "display_name": "datasci",
   "language": "python",
   "name": "python3"
  },
  "language_info": {
   "codemirror_mode": {
    "name": "ipython",
    "version": 3
   },
   "file_extension": ".py",
   "mimetype": "text/x-python",
   "name": "python",
   "nbconvert_exporter": "python",
   "pygments_lexer": "ipython3",
   "version": "3.12.9"
  }
 },
 "nbformat": 4,
 "nbformat_minor": 5
}
