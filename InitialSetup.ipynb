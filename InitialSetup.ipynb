{
 "cells": [
  {
   "cell_type": "code",
   "execution_count": 1,
   "id": "691823b9-7d70-47fc-89ed-a724b65365ea",
   "metadata": {},
   "outputs": [
    {
     "name": "stdout",
     "output_type": "stream",
     "text": [
      "Requirement already satisfied: xArm-Python-SDK in /home/robot-computer/anaconda3/lib/python3.12/site-packages (1.14.8)\n",
      "Note: you may need to restart the kernel to use updated packages.\n"
     ]
    }
   ],
   "source": [
    "pip install xArm-Python-SDK"
   ]
  },
  {
   "cell_type": "code",
   "execution_count": 2,
   "id": "ef44ed18-15fd-4b51-95fe-53396aa11801",
   "metadata": {},
   "outputs": [
    {
     "name": "stdout",
     "output_type": "stream",
     "text": [
      "SDK_VERSION: 1.14.8\n",
      "ROBOT_IP: 192.168.1.235, VERSION: v2.5.1, PROTOCOL: V1, DETAIL: 6,12,FX8510,AC8500,v2.5.1, TYPE1300: [1, 1]\n",
      "change protocol identifier to 3\n",
      "ControllerError, code: 1\n",
      "servo_error_code, servo_id=1, status=3, code=0\n",
      "servo_error_code, servo_id=1, status=0, code=0\n",
      "ControllerError had clean\n"
     ]
    }
   ],
   "source": [
    "from xarm.wrapper import XArmAPI  \n",
    "arm=XArmAPI('192.168.1.235')"
   ]
  },
  {
   "cell_type": "code",
   "execution_count": 3,
   "id": "fed9acb2-b9b0-4540-8ec0-c4c5ce7ec0e3",
   "metadata": {},
   "outputs": [
    {
     "name": "stdout",
     "output_type": "stream",
     "text": [
      "[motion_enable], xArm is not ready to move\n"
     ]
    },
    {
     "data": {
      "text/plain": [
       "0"
      ]
     },
     "execution_count": 3,
     "metadata": {},
     "output_type": "execute_result"
    }
   ],
   "source": [
    "arm.motion_enable(enable=True)"
   ]
  },
  {
   "cell_type": "code",
   "execution_count": 4,
   "id": "de510788-e9f3-4f0c-bcf6-04eacd413131",
   "metadata": {},
   "outputs": [
    {
     "data": {
      "text/plain": [
       "0"
      ]
     },
     "execution_count": 4,
     "metadata": {},
     "output_type": "execute_result"
    }
   ],
   "source": [
    "arm.set_mode(0)"
   ]
  },
  {
   "cell_type": "code",
   "execution_count": 5,
   "id": "03312431-286e-4be3-84b1-aea887d8749c",
   "metadata": {},
   "outputs": [
    {
     "name": "stdout",
     "output_type": "stream",
     "text": [
      "[set_state], xArm is ready to move\n"
     ]
    },
    {
     "data": {
      "text/plain": [
       "0"
      ]
     },
     "execution_count": 5,
     "metadata": {},
     "output_type": "execute_result"
    }
   ],
   "source": [
    "arm.set_state(0)"
   ]
  },
  {
   "cell_type": "code",
   "execution_count": 12,
   "id": "af042435-6887-4a5d-8361-c58a70e4c51f",
   "metadata": {},
   "outputs": [
    {
     "name": "stdout",
     "output_type": "stream",
     "text": [
      "(0, [147.862579, -1.980177, 237.110062, -179.974752, 0.377121, -0.152464])\n"
     ]
    }
   ],
   "source": [
    "print(arm.get_position())"
   ]
  },
  {
   "cell_type": "code",
   "execution_count": 14,
   "id": "0e62e255-3d88-45ac-bda9-f6e1c6da0cf3",
   "metadata": {},
   "outputs": [
    {
     "data": {
      "text/plain": [
       "0"
      ]
     },
     "execution_count": 14,
     "metadata": {},
     "output_type": "execute_result"
    }
   ],
   "source": [
    "arm.set_position(200,-1.980177,237.110062,-180,0,0)  "
   ]
  },
  {
   "cell_type": "code",
   "execution_count": 16,
   "id": "39ae27e4-21ff-44ad-bdff-c99d0423ec6b",
   "metadata": {},
   "outputs": [
    {
     "data": {
      "text/plain": [
       "0"
      ]
     },
     "execution_count": 16,
     "metadata": {},
     "output_type": "execute_result"
    }
   ],
   "source": [
    "arm.set_position(200,-1.980177,237.110062,-170,0,0)  "
   ]
  },
  {
   "cell_type": "code",
   "execution_count": 18,
   "id": "564dc58f-9364-4dcd-ba34-b95b5dba6a7e",
   "metadata": {},
   "outputs": [
    {
     "data": {
      "text/plain": [
       "0"
      ]
     },
     "execution_count": 18,
     "metadata": {},
     "output_type": "execute_result"
    }
   ],
   "source": [
    "arm.set_position(200,-1.980177,237.110062,-170,10,0)  "
   ]
  },
  {
   "cell_type": "code",
   "execution_count": 20,
   "id": "78d26d96-83a8-4988-a4be-00c2339e24c3",
   "metadata": {},
   "outputs": [
    {
     "data": {
      "text/plain": [
       "0"
      ]
     },
     "execution_count": 20,
     "metadata": {},
     "output_type": "execute_result"
    }
   ],
   "source": [
    "arm.set_position(200,-1.980177,237.110062,-170,10,10)  "
   ]
  },
  {
   "cell_type": "code",
   "execution_count": null,
   "id": "8c7d480e-606a-4641-925a-1c0e49e59541",
   "metadata": {},
   "outputs": [],
   "source": []
  }
 ],
 "metadata": {
  "kernelspec": {
   "display_name": "Python [conda env:base] *",
   "language": "python",
   "name": "conda-base-py"
  },
  "language_info": {
   "codemirror_mode": {
    "name": "ipython",
    "version": 3
   },
   "file_extension": ".py",
   "mimetype": "text/x-python",
   "name": "python",
   "nbconvert_exporter": "python",
   "pygments_lexer": "ipython3",
   "version": "3.12.7"
  }
 },
 "nbformat": 4,
 "nbformat_minor": 5
}
